{
 "cells": [
  {
   "cell_type": "code",
   "execution_count": 1,
   "source": [
    "import pandas as pd\r\n",
    "import database_utils as dbu"
   ],
   "outputs": [],
   "metadata": {}
  },
  {
   "cell_type": "markdown",
   "source": [
    "![](database_tables.png)"
   ],
   "metadata": {}
  },
  {
   "cell_type": "markdown",
   "source": [
    "## 1. Find the day when the most chicken was sold at location 3"
   ],
   "metadata": {}
  },
  {
   "cell_type": "code",
   "execution_count": 5,
   "source": [
    "database = 'supermarket.db'\r\n",
    "\r\n",
    "query = '''\r\n",
    "           select date(timestamp), product, location, sum(quantity)\r\n",
    "           from transactions\r\n",
    "\r\n",
    "           where product = 'chicken'\r\n",
    "           and location = 'location_3'\r\n",
    "\r\n",
    "           group by 1, 2, 3\r\n",
    "           order by 4 desc\r\n",
    "           limit 1\r\n",
    "        '''\r\n",
    "dbu.query_sql(database=database, sql=query)"
   ],
   "outputs": [
    {
     "output_type": "stream",
     "name": "stdout",
     "text": [
      "Query executed successfully!\n",
      "query returned 1 rows\n"
     ]
    },
    {
     "output_type": "execute_result",
     "data": {
      "text/html": [
       "<div>\n",
       "<style scoped>\n",
       "    .dataframe tbody tr th:only-of-type {\n",
       "        vertical-align: middle;\n",
       "    }\n",
       "\n",
       "    .dataframe tbody tr th {\n",
       "        vertical-align: top;\n",
       "    }\n",
       "\n",
       "    .dataframe thead th {\n",
       "        text-align: right;\n",
       "    }\n",
       "</style>\n",
       "<table border=\"1\" class=\"dataframe\">\n",
       "  <thead>\n",
       "    <tr style=\"text-align: right;\">\n",
       "      <th></th>\n",
       "      <th>0</th>\n",
       "      <th>1</th>\n",
       "      <th>2</th>\n",
       "      <th>3</th>\n",
       "    </tr>\n",
       "  </thead>\n",
       "  <tbody>\n",
       "    <tr>\n",
       "      <th>0</th>\n",
       "      <td>2021-03-02</td>\n",
       "      <td>chicken</td>\n",
       "      <td>location_3</td>\n",
       "      <td>79.0</td>\n",
       "    </tr>\n",
       "  </tbody>\n",
       "</table>\n",
       "</div>"
      ],
      "text/plain": [
       "            0        1           2     3\n",
       "0  2021-03-02  chicken  location_3  79.0"
      ]
     },
     "metadata": {},
     "execution_count": 5
    }
   ],
   "metadata": {}
  },
  {
   "cell_type": "markdown",
   "source": [
    "## 2. Find the location that sells the most meat products."
   ],
   "metadata": {}
  },
  {
   "cell_type": "code",
   "execution_count": 7,
   "source": [
    "database = 'supermarket.db'\r\n",
    "\r\n",
    "query = '''\r\n",
    "           select location, category, sum(quantity)\r\n",
    "           from transactions t1\r\n",
    "\r\n",
    "           left join products t2 on t2.product = t1.product\r\n",
    "\r\n",
    "           where category = 'meat'\r\n",
    "\r\n",
    "           group by 1, 2\r\n",
    "           order by 3 desc\r\n",
    "        '''\r\n",
    "dbu.query_sql(database=database, sql=query)"
   ],
   "outputs": [
    {
     "output_type": "stream",
     "name": "stdout",
     "text": [
      "Query executed successfully!\n",
      "query returned 5 rows\n"
     ]
    },
    {
     "output_type": "execute_result",
     "data": {
      "text/html": [
       "<div>\n",
       "<style scoped>\n",
       "    .dataframe tbody tr th:only-of-type {\n",
       "        vertical-align: middle;\n",
       "    }\n",
       "\n",
       "    .dataframe tbody tr th {\n",
       "        vertical-align: top;\n",
       "    }\n",
       "\n",
       "    .dataframe thead th {\n",
       "        text-align: right;\n",
       "    }\n",
       "</style>\n",
       "<table border=\"1\" class=\"dataframe\">\n",
       "  <thead>\n",
       "    <tr style=\"text-align: right;\">\n",
       "      <th></th>\n",
       "      <th>0</th>\n",
       "      <th>1</th>\n",
       "      <th>2</th>\n",
       "    </tr>\n",
       "  </thead>\n",
       "  <tbody>\n",
       "    <tr>\n",
       "      <th>0</th>\n",
       "      <td>location_2</td>\n",
       "      <td>meat</td>\n",
       "      <td>6741.0</td>\n",
       "    </tr>\n",
       "    <tr>\n",
       "      <th>1</th>\n",
       "      <td>location_1</td>\n",
       "      <td>meat</td>\n",
       "      <td>4686.0</td>\n",
       "    </tr>\n",
       "    <tr>\n",
       "      <th>2</th>\n",
       "      <td>location_5</td>\n",
       "      <td>meat</td>\n",
       "      <td>4444.0</td>\n",
       "    </tr>\n",
       "    <tr>\n",
       "      <th>3</th>\n",
       "      <td>location_4</td>\n",
       "      <td>meat</td>\n",
       "      <td>4288.0</td>\n",
       "    </tr>\n",
       "    <tr>\n",
       "      <th>4</th>\n",
       "      <td>location_3</td>\n",
       "      <td>meat</td>\n",
       "      <td>3845.0</td>\n",
       "    </tr>\n",
       "  </tbody>\n",
       "</table>\n",
       "</div>"
      ],
      "text/plain": [
       "            0     1       2\n",
       "0  location_2  meat  6741.0\n",
       "1  location_1  meat  4686.0\n",
       "2  location_5  meat  4444.0\n",
       "3  location_4  meat  4288.0\n",
       "4  location_3  meat  3845.0"
      ]
     },
     "metadata": {},
     "execution_count": 7
    }
   ],
   "metadata": {}
  },
  {
   "cell_type": "markdown",
   "source": [
    "## 3. What is the average number of meat products sold by the supermarket.\r\n",
    "\r\n",
    "- Note that this question is deliberately ambiguous. The average can be calcualted based different groupings e.g daily average, weekly average, average by location etc. Bonus points for a student to recognize this. However, one can also simply calculate the overall average across all transactions as shown in query1. query2 on the other hand shows how you one can calculate the daily average."
   ],
   "metadata": {}
  },
  {
   "cell_type": "code",
   "execution_count": 13,
   "source": [
    "database = 'supermarket.db'\r\n",
    "\r\n",
    "query1 = '''\r\n",
    "           select category, avg(quantity)\r\n",
    "           from transactions t1\r\n",
    "\r\n",
    "           left join products t2 on t2.product = t1.product\r\n",
    "\r\n",
    "           where category = 'meat'\r\n",
    "\r\n",
    "           group by 1\r\n",
    "        '''\r\n",
    "\r\n",
    "query2 = '''\r\n",
    "           with daily_meat as (\r\n",
    "                select date(timestamp), category, sum(quantity) as total_meat\r\n",
    "                from transactions t1\r\n",
    "\r\n",
    "                left join products t2 on t2.product = t1.product\r\n",
    "\r\n",
    "                where category = 'meat'\r\n",
    "\r\n",
    "                group by 1, 2\r\n",
    "           )\r\n",
    "\r\n",
    "           select avg(total_meat)\r\n",
    "           from daily_meat\r\n",
    "        '''\r\n",
    "\r\n",
    "dbu.query_sql(database=database, sql=query2)"
   ],
   "outputs": [
    {
     "output_type": "stream",
     "name": "stdout",
     "text": [
      "Query executed successfully!\n",
      "query returned 1 rows\n"
     ]
    },
    {
     "output_type": "execute_result",
     "data": {
      "text/html": [
       "<div>\n",
       "<style scoped>\n",
       "    .dataframe tbody tr th:only-of-type {\n",
       "        vertical-align: middle;\n",
       "    }\n",
       "\n",
       "    .dataframe tbody tr th {\n",
       "        vertical-align: top;\n",
       "    }\n",
       "\n",
       "    .dataframe thead th {\n",
       "        text-align: right;\n",
       "    }\n",
       "</style>\n",
       "<table border=\"1\" class=\"dataframe\">\n",
       "  <thead>\n",
       "    <tr style=\"text-align: right;\">\n",
       "      <th></th>\n",
       "      <th>0</th>\n",
       "    </tr>\n",
       "  </thead>\n",
       "  <tbody>\n",
       "    <tr>\n",
       "      <th>0</th>\n",
       "      <td>774.322581</td>\n",
       "    </tr>\n",
       "  </tbody>\n",
       "</table>\n",
       "</div>"
      ],
      "text/plain": [
       "            0\n",
       "0  774.322581"
      ]
     },
     "metadata": {},
     "execution_count": 13
    }
   ],
   "metadata": {}
  },
  {
   "cell_type": "markdown",
   "source": [
    "## 4. List all the days when the number of meat products sold at location 5 was below average."
   ],
   "metadata": {}
  },
  {
   "cell_type": "code",
   "execution_count": 18,
   "source": [
    "database = 'supermarket.db'\r\n",
    "\r\n",
    "query = '''\r\n",
    "           with daily_meat as (\r\n",
    "                select date(timestamp) as day, category, sum(quantity) as total_meat\r\n",
    "                from transactions t1\r\n",
    "\r\n",
    "                left join products t2 on t2.product = t1.product\r\n",
    "\r\n",
    "                where category = 'meat'\r\n",
    "\r\n",
    "                group by 1, 2\r\n",
    "           ),\r\n",
    "\r\n",
    "           average_meat as (\r\n",
    "                select avg(total_meat) as average_value\r\n",
    "                from daily_meat\r\n",
    "           )\r\n",
    "\r\n",
    "           select day, total_meat\r\n",
    "           from daily_meat\r\n",
    "           where total_meat < (select average_value from average_meat)\r\n",
    "        '''\r\n",
    "\r\n",
    "dbu.query_sql(database=database, sql=query)"
   ],
   "outputs": [
    {
     "output_type": "stream",
     "name": "stdout",
     "text": [
      "Query executed successfully!\n",
      "query returned 17 rows\n"
     ]
    },
    {
     "output_type": "execute_result",
     "data": {
      "text/html": [
       "<div>\n",
       "<style scoped>\n",
       "    .dataframe tbody tr th:only-of-type {\n",
       "        vertical-align: middle;\n",
       "    }\n",
       "\n",
       "    .dataframe tbody tr th {\n",
       "        vertical-align: top;\n",
       "    }\n",
       "\n",
       "    .dataframe thead th {\n",
       "        text-align: right;\n",
       "    }\n",
       "</style>\n",
       "<table border=\"1\" class=\"dataframe\">\n",
       "  <thead>\n",
       "    <tr style=\"text-align: right;\">\n",
       "      <th></th>\n",
       "      <th>0</th>\n",
       "      <th>1</th>\n",
       "    </tr>\n",
       "  </thead>\n",
       "  <tbody>\n",
       "    <tr>\n",
       "      <th>0</th>\n",
       "      <td>2021-03-03</td>\n",
       "      <td>684.0</td>\n",
       "    </tr>\n",
       "    <tr>\n",
       "      <th>1</th>\n",
       "      <td>2021-03-04</td>\n",
       "      <td>683.0</td>\n",
       "    </tr>\n",
       "    <tr>\n",
       "      <th>2</th>\n",
       "      <td>2021-03-06</td>\n",
       "      <td>659.0</td>\n",
       "    </tr>\n",
       "    <tr>\n",
       "      <th>3</th>\n",
       "      <td>2021-03-08</td>\n",
       "      <td>729.0</td>\n",
       "    </tr>\n",
       "    <tr>\n",
       "      <th>4</th>\n",
       "      <td>2021-03-09</td>\n",
       "      <td>729.0</td>\n",
       "    </tr>\n",
       "    <tr>\n",
       "      <th>5</th>\n",
       "      <td>2021-03-11</td>\n",
       "      <td>705.0</td>\n",
       "    </tr>\n",
       "    <tr>\n",
       "      <th>6</th>\n",
       "      <td>2021-03-13</td>\n",
       "      <td>657.0</td>\n",
       "    </tr>\n",
       "    <tr>\n",
       "      <th>7</th>\n",
       "      <td>2021-03-15</td>\n",
       "      <td>737.0</td>\n",
       "    </tr>\n",
       "    <tr>\n",
       "      <th>8</th>\n",
       "      <td>2021-03-17</td>\n",
       "      <td>684.0</td>\n",
       "    </tr>\n",
       "    <tr>\n",
       "      <th>9</th>\n",
       "      <td>2021-03-18</td>\n",
       "      <td>706.0</td>\n",
       "    </tr>\n",
       "    <tr>\n",
       "      <th>10</th>\n",
       "      <td>2021-03-20</td>\n",
       "      <td>556.0</td>\n",
       "    </tr>\n",
       "    <tr>\n",
       "      <th>11</th>\n",
       "      <td>2021-03-21</td>\n",
       "      <td>679.0</td>\n",
       "    </tr>\n",
       "    <tr>\n",
       "      <th>12</th>\n",
       "      <td>2021-03-24</td>\n",
       "      <td>722.0</td>\n",
       "    </tr>\n",
       "    <tr>\n",
       "      <th>13</th>\n",
       "      <td>2021-03-26</td>\n",
       "      <td>652.0</td>\n",
       "    </tr>\n",
       "    <tr>\n",
       "      <th>14</th>\n",
       "      <td>2021-03-27</td>\n",
       "      <td>764.0</td>\n",
       "    </tr>\n",
       "    <tr>\n",
       "      <th>15</th>\n",
       "      <td>2021-03-28</td>\n",
       "      <td>653.0</td>\n",
       "    </tr>\n",
       "    <tr>\n",
       "      <th>16</th>\n",
       "      <td>2021-03-31</td>\n",
       "      <td>601.0</td>\n",
       "    </tr>\n",
       "  </tbody>\n",
       "</table>\n",
       "</div>"
      ],
      "text/plain": [
       "             0      1\n",
       "0   2021-03-03  684.0\n",
       "1   2021-03-04  683.0\n",
       "2   2021-03-06  659.0\n",
       "3   2021-03-08  729.0\n",
       "4   2021-03-09  729.0\n",
       "5   2021-03-11  705.0\n",
       "6   2021-03-13  657.0\n",
       "7   2021-03-15  737.0\n",
       "8   2021-03-17  684.0\n",
       "9   2021-03-18  706.0\n",
       "10  2021-03-20  556.0\n",
       "11  2021-03-21  679.0\n",
       "12  2021-03-24  722.0\n",
       "13  2021-03-26  652.0\n",
       "14  2021-03-27  764.0\n",
       "15  2021-03-28  653.0\n",
       "16  2021-03-31  601.0"
      ]
     },
     "metadata": {},
     "execution_count": 18
    }
   ],
   "metadata": {}
  },
  {
   "cell_type": "markdown",
   "source": [
    "## 5. For each location, what is the busiest hour of the day?\r\n",
    "- A reasonable measure for how busy a location is can be the total number of transactions. However, depending on the specific business context considered, a different measure may be preferred."
   ],
   "metadata": {}
  },
  {
   "cell_type": "code",
   "execution_count": 32,
   "source": [
    "database = 'supermarket.db'\r\n",
    "\r\n",
    "query = '''\r\n",
    "        select hour_of_day, location, max(num_transactions)\r\n",
    "\r\n",
    "        from (\r\n",
    "                select time(timestamp) as hour_of_day, location, count(1) as num_transactions\r\n",
    "                from transactions\r\n",
    "                group by 1, 2\r\n",
    "              )\r\n",
    "        \r\n",
    "        group by location\r\n",
    "        '''\r\n",
    "dbu.query_sql(database=database, sql=query)"
   ],
   "outputs": [
    {
     "output_type": "stream",
     "name": "stdout",
     "text": [
      "Query executed successfully!\n",
      "query returned 5 rows\n"
     ]
    },
    {
     "output_type": "execute_result",
     "data": {
      "text/html": [
       "<div>\n",
       "<style scoped>\n",
       "    .dataframe tbody tr th:only-of-type {\n",
       "        vertical-align: middle;\n",
       "    }\n",
       "\n",
       "    .dataframe tbody tr th {\n",
       "        vertical-align: top;\n",
       "    }\n",
       "\n",
       "    .dataframe thead th {\n",
       "        text-align: right;\n",
       "    }\n",
       "</style>\n",
       "<table border=\"1\" class=\"dataframe\">\n",
       "  <thead>\n",
       "    <tr style=\"text-align: right;\">\n",
       "      <th></th>\n",
       "      <th>0</th>\n",
       "      <th>1</th>\n",
       "      <th>2</th>\n",
       "    </tr>\n",
       "  </thead>\n",
       "  <tbody>\n",
       "    <tr>\n",
       "      <th>0</th>\n",
       "      <td>18:00:00</td>\n",
       "      <td>location_1</td>\n",
       "      <td>246</td>\n",
       "    </tr>\n",
       "    <tr>\n",
       "      <th>1</th>\n",
       "      <td>18:00:00</td>\n",
       "      <td>location_2</td>\n",
       "      <td>371</td>\n",
       "    </tr>\n",
       "    <tr>\n",
       "      <th>2</th>\n",
       "      <td>18:00:00</td>\n",
       "      <td>location_3</td>\n",
       "      <td>258</td>\n",
       "    </tr>\n",
       "    <tr>\n",
       "      <th>3</th>\n",
       "      <td>17:00:00</td>\n",
       "      <td>location_4</td>\n",
       "      <td>272</td>\n",
       "    </tr>\n",
       "    <tr>\n",
       "      <th>4</th>\n",
       "      <td>18:00:00</td>\n",
       "      <td>location_5</td>\n",
       "      <td>208</td>\n",
       "    </tr>\n",
       "  </tbody>\n",
       "</table>\n",
       "</div>"
      ],
      "text/plain": [
       "          0           1    2\n",
       "0  18:00:00  location_1  246\n",
       "1  18:00:00  location_2  371\n",
       "2  18:00:00  location_3  258\n",
       "3  17:00:00  location_4  272\n",
       "4  18:00:00  location_5  208"
      ]
     },
     "metadata": {},
     "execution_count": 32
    }
   ],
   "metadata": {}
  },
  {
   "cell_type": "markdown",
   "source": [
    "## 6. Which location has the busiest weekends?\r\n",
    "Again, we can consider the total number of transactions to be a good indicator of how bust a location was. As a result, if we calculate the total number of transactions at each location on weekends, we can compare and make a judgement about the busiest location."
   ],
   "metadata": {}
  },
  {
   "cell_type": "code",
   "execution_count": 37,
   "source": [
    "database = 'supermarket.db'\r\n",
    "\r\n",
    "query = '''\r\n",
    "        select location, count(1)\r\n",
    "        from transactions\r\n",
    "\r\n",
    "        where strftime('%w', timestamp) in ('0','6') -- sunday is 0 and saturday is 6\r\n",
    "        \r\n",
    "        group by 1\r\n",
    "        order by 2 desc\r\n",
    "        '''\r\n",
    "dbu.query_sql(database=database, sql=query)"
   ],
   "outputs": [
    {
     "output_type": "stream",
     "name": "stdout",
     "text": [
      "Query executed successfully!\n",
      "query returned 5 rows\n"
     ]
    },
    {
     "output_type": "execute_result",
     "data": {
      "text/html": [
       "<div>\n",
       "<style scoped>\n",
       "    .dataframe tbody tr th:only-of-type {\n",
       "        vertical-align: middle;\n",
       "    }\n",
       "\n",
       "    .dataframe tbody tr th {\n",
       "        vertical-align: top;\n",
       "    }\n",
       "\n",
       "    .dataframe thead th {\n",
       "        text-align: right;\n",
       "    }\n",
       "</style>\n",
       "<table border=\"1\" class=\"dataframe\">\n",
       "  <thead>\n",
       "    <tr style=\"text-align: right;\">\n",
       "      <th></th>\n",
       "      <th>0</th>\n",
       "      <th>1</th>\n",
       "    </tr>\n",
       "  </thead>\n",
       "  <tbody>\n",
       "    <tr>\n",
       "      <th>0</th>\n",
       "      <td>location_2</td>\n",
       "      <td>773</td>\n",
       "    </tr>\n",
       "    <tr>\n",
       "      <th>1</th>\n",
       "      <td>location_4</td>\n",
       "      <td>494</td>\n",
       "    </tr>\n",
       "    <tr>\n",
       "      <th>2</th>\n",
       "      <td>location_3</td>\n",
       "      <td>470</td>\n",
       "    </tr>\n",
       "    <tr>\n",
       "      <th>3</th>\n",
       "      <td>location_1</td>\n",
       "      <td>464</td>\n",
       "    </tr>\n",
       "    <tr>\n",
       "      <th>4</th>\n",
       "      <td>location_5</td>\n",
       "      <td>426</td>\n",
       "    </tr>\n",
       "  </tbody>\n",
       "</table>\n",
       "</div>"
      ],
      "text/plain": [
       "            0    1\n",
       "0  location_2  773\n",
       "1  location_4  494\n",
       "2  location_3  470\n",
       "3  location_1  464\n",
       "4  location_5  426"
      ]
     },
     "metadata": {},
     "execution_count": 37
    }
   ],
   "metadata": {}
  }
 ],
 "metadata": {
  "orig_nbformat": 4,
  "language_info": {
   "name": "python",
   "version": "3.6.4",
   "mimetype": "text/x-python",
   "codemirror_mode": {
    "name": "ipython",
    "version": 3
   },
   "pygments_lexer": "ipython3",
   "nbconvert_exporter": "python",
   "file_extension": ".py"
  },
  "kernelspec": {
   "name": "python3",
   "display_name": "Python 3.6.4 64-bit ('base': conda)"
  },
  "interpreter": {
   "hash": "b3ba2566441a7c06988d0923437866b63cedc61552a5af99d1f4fb67d367b25f"
  }
 },
 "nbformat": 4,
 "nbformat_minor": 2
}